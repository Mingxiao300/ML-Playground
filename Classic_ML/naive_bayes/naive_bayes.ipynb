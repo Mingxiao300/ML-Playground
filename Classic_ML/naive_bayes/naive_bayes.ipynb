{
 "cells": [
  {
   "cell_type": "markdown",
   "id": "22c9f17e",
   "metadata": {},
   "source": [
    "# Core Concepts\n",
    "\n",
    "- Bayes Theorem: $$P(A|B) = \\frac{P(B|A)P(A)}{P(B)}$$ $$P(y|X) = \\frac{P(X|y)P(y)}{P(X)}$$\n",
    "- Assumption: all features are mutually independent: $$P(y|X) = \\frac{P(x_1|y)P(x_2|y)...P(x_n|y)P(y)}{P(X)}$$\n",
    "    - $P(x_n|y)$: conditional probabillity -> model with Gaussian\n",
    "    - $P(y)$: prior of y -> frequency\n",
    "    - $P(y|X)$: posterior\n",
    "    - NaiveBayes doesn't come with weights & biases for optimization, instead the log-likelihoods and the conditional probability Gaussian model behind can be modeled parametrically\n",
    "- classification - making prediction: $$y = argmax_y P(y|X) = argmax_y  \\frac{P(x_1|y)P(x_2|y)...P(x_n|y)P(y)}{P(X)}$$\n",
    "    - all probabilities between 0 and 1, cumulative multiplication can ended up be really small numbers\n",
    "    - take logprobs instead: $$y = argmax_y log(P(x_1|y)) ... + log(P(x_n|y)) + log(P(y))$$ "
   ]
  },
  {
   "cell_type": "markdown",
   "id": "11897d23",
   "metadata": {},
   "source": [
    "# Code"
   ]
  },
  {
   "cell_type": "code",
   "execution_count": 8,
   "id": "91331e3f",
   "metadata": {},
   "outputs": [],
   "source": [
    "import numpy as np\n",
    "\n",
    "class NaiveBayes:\n",
    "\n",
    "    def fit(self, X, y):\n",
    "        n_samples, n_features = X.shape\n",
    "        self._classes = np.unique(y)\n",
    "        n_classes = len(self._classes)\n",
    "\n",
    "        # init mean, var, priors\n",
    "        self._mean = np.zeros((n_classes, n_features), dtype = np.float64)\n",
    "        self._var = np.zeros((n_classes, n_features), dtype = np.float64)\n",
    "        self._priors = np.zeros(n_classes, dtype = np.float64)\n",
    "\n",
    "        for c in self._classes:\n",
    "            X_c = X[y==c]\n",
    "            self._mean[c, :] = X_c.mean(axis=0)\n",
    "            self._var[c, :] = X_c.var(axis=0)\n",
    "            self._priors[c] = X_c.shape[0] / float(n_samples)\n",
    "\n",
    "    \n",
    "    def predict(self, X):\n",
    "        y_pred = [self._predict(x) for x in X]\n",
    "        return y_pred\n",
    "\n",
    "    def _predict(self, x):\n",
    "        posteriors = []\n",
    "\n",
    "        for idx, c in enumerate(self._classes):\n",
    "            prior = np.log(self._priors[idx])\n",
    "            class_conditional = np.log(self._pdf(idx, x))\n",
    "            posterior = np.sum(class_conditional) + prior\n",
    "            posteriors.append(posterior)\n",
    "        \n",
    "        return self._classes[np.argmax(posteriors)]\n",
    "    \n",
    "    def _pdf(self, class_idx, x):\n",
    "        mean = self._mean[class_idx]\n",
    "        var = self._var[class_idx]\n",
    "        numerator = np.exp( -(x-mean)**2/(2*var))\n",
    "        denominator = np.sqrt(2 * np.pi * var)\n",
    "        return numerator / denominator"
   ]
  },
  {
   "cell_type": "markdown",
   "id": "0f39536e",
   "metadata": {},
   "source": [
    "# Test"
   ]
  },
  {
   "cell_type": "code",
   "execution_count": 9,
   "id": "ec39b83f",
   "metadata": {},
   "outputs": [
    {
     "name": "stdout",
     "output_type": "stream",
     "text": [
      "Accuracy: 0.81\n"
     ]
    }
   ],
   "source": [
    "import numpy as np\n",
    "from sklearn import datasets\n",
    "from sklearn.model_selection import train_test_split\n",
    "import matplotlib.pyplot as plt\n",
    "\n",
    "def accuracy(y_true, y_pred):\n",
    "    return np.sum(y_true == y_pred) / len(y_true)\n",
    "\n",
    "X, y = datasets.make_classification(n_samples=1000, n_features=10, n_informative=2, random_state=42)\n",
    "X_train, X_test, y_train, y_test = train_test_split(X, y, test_size=0.2, random_state=42)\n",
    "\n",
    "nb = NaiveBayes()\n",
    "nb.fit(X_train, y_train)\n",
    "y_pred = nb.predict(X_test)\n",
    "\n",
    "print(\"Accuracy:\", accuracy(y_test, y_pred))"
   ]
  },
  {
   "cell_type": "code",
   "execution_count": null,
   "id": "ca4b487d",
   "metadata": {},
   "outputs": [],
   "source": []
  }
 ],
 "metadata": {
  "kernelspec": {
   "display_name": "ml-playground",
   "language": "python",
   "name": "python3"
  },
  "language_info": {
   "codemirror_mode": {
    "name": "ipython",
    "version": 3
   },
   "file_extension": ".py",
   "mimetype": "text/x-python",
   "name": "python",
   "nbconvert_exporter": "python",
   "pygments_lexer": "ipython3",
   "version": "3.10.18"
  }
 },
 "nbformat": 4,
 "nbformat_minor": 5
}
