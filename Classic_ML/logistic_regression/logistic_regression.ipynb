{
 "cells": [
  {
   "cell_type": "markdown",
   "id": "9e02b781",
   "metadata": {},
   "source": [
    "# Main Concepts\n",
    "\n",
    "- linear regression --> logistic regression: instead of numerical output, want to get a probability\n",
    "\n",
    "$$\\hat{y} = h_{\\theta}(x) = \\frac{1}{1 + e^{-wx+b}}$$\n",
    "$$h_{\\theta}(x) = P(Y=1|x,\\theta)$$\n",
    "\n",
    "- loss function: cross entropy (given a ground truth probability distribution + an estimation --> measures how close predicted distribution is to true one)\n",
    "    - binary classification: $J(w,b) = J(\\theta) = \\frac{1}{N}\\sum^n_{i=1} [y^ilog(h_{\\theta}(x^i)) + (1-y^i)log(1-h_{\\theta}(x^i))]$"
   ]
  },
  {
   "cell_type": "markdown",
   "id": "19ddec49",
   "metadata": {},
   "source": [
    "# Code"
   ]
  },
  {
   "cell_type": "code",
   "execution_count": 1,
   "id": "9c68926b",
   "metadata": {},
   "outputs": [],
   "source": [
    "import numpy as np\n",
    "\n",
    "class LogisticRegression:\n",
    "\n",
    "    def __init__(self, lr=0.001, n_iters=1000):\n",
    "        self.lr = lr\n",
    "        self.n_iters = n_iters\n",
    "        self.weights = None\n",
    "        self.bias = None\n",
    "    \n",
    "    def fit(self, X, y):\n",
    "        # init parameters\n",
    "        n_samples, n_features = X.shape\n",
    "        self.weights = np.zeros(n_features)\n",
    "        self.bias = 0\n",
    "\n",
    "        for _ in range(self.n_iters):\n",
    "            # linear model\n",
    "            linear_model = np.dot(X, self.weights) + self.bias\n",
    "\n",
    "            # sigmoid function\n",
    "            y_predicted = self.sigmoid(linear_model)\n",
    "\n",
    "            # computer gradients\n",
    "            dw = (1/n_samples) * np.dot(X.T, (y_predicted - y))\n",
    "            db = (1/n_samples) * np.sum(y_predicted - y)\n",
    "\n",
    "            # update weights and bias\n",
    "            self.weights -= self.lr * dw\n",
    "            self.bias -= self.lr * db\n",
    "\n",
    "    def predict(self, X):\n",
    "        linear_model = np.dot(X, self.weights) + self.bias\n",
    "        y_predicted = self.sigmoid(linear_model)\n",
    "        y_predicted_cls = [1 if y > 0.5 else 0 for y in y_predicted]\n",
    "\n",
    "        return y_predicted_cls\n",
    "    \n",
    "    def sigmoid(self, x):\n",
    "        return 1/ (1 + np.exp(-x))\n"
   ]
  },
  {
   "cell_type": "markdown",
   "id": "8958a14e",
   "metadata": {},
   "source": [
    "# Test"
   ]
  },
  {
   "cell_type": "code",
   "execution_count": 3,
   "id": "e48c1035",
   "metadata": {},
   "outputs": [
    {
     "name": "stdout",
     "output_type": "stream",
     "text": [
      "LR classification accuracy: 94.74%\n"
     ]
    },
    {
     "name": "stderr",
     "output_type": "stream",
     "text": [
      "/var/folders/54/ftmbf1r53bj2j6z2l781dlf00000gn/T/ipykernel_98246/4066916147.py:40: RuntimeWarning: overflow encountered in exp\n",
      "  return 1/ (1 + np.exp(-x))\n"
     ]
    }
   ],
   "source": [
    "import numpy as np\n",
    "from sklearn import datasets\n",
    "from sklearn.model_selection import train_test_split\n",
    "import matplotlib.pyplot as plt\n",
    "\n",
    "bc = datasets.load_breast_cancer()\n",
    "X, y = bc.data, bc.target\n",
    "X_train, X_test, y_train, y_test = train_test_split(X, y, test_size=0.2, random_state=42)\n",
    "\n",
    "def accuracy(y_true, y_pred):\n",
    "    accuracy = np.sum(y_true == y_pred) / len(y_true)\n",
    "    return accuracy\n",
    "\n",
    "model = LogisticRegression(lr=0.001, n_iters=1000)\n",
    "model.fit(X_train, y_train)\n",
    "y_predicted = model.predict(X_test)\n",
    "print(f\"LR classification accuracy: {accuracy(y_test, y_predicted) * 100:.2f}%\")"
   ]
  }
 ],
 "metadata": {
  "kernelspec": {
   "display_name": "ml-playground",
   "language": "python",
   "name": "python3"
  },
  "language_info": {
   "codemirror_mode": {
    "name": "ipython",
    "version": 3
   },
   "file_extension": ".py",
   "mimetype": "text/x-python",
   "name": "python",
   "nbconvert_exporter": "python",
   "pygments_lexer": "ipython3",
   "version": "3.10.18"
  }
 },
 "nbformat": 4,
 "nbformat_minor": 5
}
